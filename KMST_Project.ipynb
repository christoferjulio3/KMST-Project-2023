{
  "nbformat": 4,
  "nbformat_minor": 0,
  "metadata": {
    "colab": {
      "provenance": [],
      "collapsed_sections": [
        "DmYsPel6V3yF",
        "zFoOm6wThTVk",
        "LdCj_76Uii_g",
        "tOYGIzVtqn8p"
      ]
    },
    "kernelspec": {
      "name": "python3",
      "display_name": "Python 3"
    },
    "language_info": {
      "name": "python"
    }
  },
  "cells": [
    {
      "cell_type": "code",
      "source": [
        "!pip install git+https://github.com/scikit-learn-contrib/skope-rules\n",
        "!pip install fuzzywuzzy\n",
        "!pip install python-Levenshtein"
      ],
      "metadata": {
        "id": "tuVaNWkj5DHJ",
        "colab": {
          "base_uri": "https://localhost:8080/"
        },
        "outputId": "7ec41c31-08aa-4dd0-a0ab-07ac69bba63f"
      },
      "execution_count": null,
      "outputs": [
        {
          "output_type": "stream",
          "name": "stdout",
          "text": [
            "Collecting git+https://github.com/scikit-learn-contrib/skope-rules\n",
            "  Cloning https://github.com/scikit-learn-contrib/skope-rules to /tmp/pip-req-build-vrqenudh\n",
            "  Running command git clone --filter=blob:none --quiet https://github.com/scikit-learn-contrib/skope-rules /tmp/pip-req-build-vrqenudh\n",
            "  Resolved https://github.com/scikit-learn-contrib/skope-rules to commit 35553e98558c728e063c4d4dab3941ce8f6e3609\n",
            "  Preparing metadata (setup.py) ... \u001b[?25l\u001b[?25hdone\n",
            "Requirement already satisfied: numpy>=1.10.4 in /usr/local/lib/python3.10/dist-packages (from skope-rules==1.0.1) (1.23.5)\n",
            "Requirement already satisfied: scikit-learn>=0.17.1 in /usr/local/lib/python3.10/dist-packages (from skope-rules==1.0.1) (1.2.2)\n",
            "Requirement already satisfied: scipy>=0.17.0 in /usr/local/lib/python3.10/dist-packages (from skope-rules==1.0.1) (1.11.4)\n",
            "Requirement already satisfied: pandas>=0.18.1 in /usr/local/lib/python3.10/dist-packages (from skope-rules==1.0.1) (1.5.3)\n",
            "Requirement already satisfied: python-dateutil>=2.8.1 in /usr/local/lib/python3.10/dist-packages (from pandas>=0.18.1->skope-rules==1.0.1) (2.8.2)\n",
            "Requirement already satisfied: pytz>=2020.1 in /usr/local/lib/python3.10/dist-packages (from pandas>=0.18.1->skope-rules==1.0.1) (2023.3.post1)\n",
            "Requirement already satisfied: joblib>=1.1.1 in /usr/local/lib/python3.10/dist-packages (from scikit-learn>=0.17.1->skope-rules==1.0.1) (1.3.2)\n",
            "Requirement already satisfied: threadpoolctl>=2.0.0 in /usr/local/lib/python3.10/dist-packages (from scikit-learn>=0.17.1->skope-rules==1.0.1) (3.2.0)\n",
            "Requirement already satisfied: six>=1.5 in /usr/local/lib/python3.10/dist-packages (from python-dateutil>=2.8.1->pandas>=0.18.1->skope-rules==1.0.1) (1.16.0)\n",
            "Building wheels for collected packages: skope-rules\n",
            "  Building wheel for skope-rules (setup.py) ... \u001b[?25l\u001b[?25hdone\n",
            "  Created wheel for skope-rules: filename=skope_rules-1.0.1-py3-none-any.whl size=14926 sha256=e533be73e2adb7097aac73e3c37262dcaa2cea571ca92dd3efdaee3768f04a3b\n",
            "  Stored in directory: /tmp/pip-ephem-wheel-cache-eot4qyv4/wheels/21/5b/9c/59590b2cf7e0a830956653e025b3e04eefce6953a54bbaae72\n",
            "Successfully built skope-rules\n",
            "Installing collected packages: skope-rules\n",
            "Successfully installed skope-rules-1.0.1\n",
            "Collecting fuzzywuzzy\n",
            "  Downloading fuzzywuzzy-0.18.0-py2.py3-none-any.whl (18 kB)\n",
            "Installing collected packages: fuzzywuzzy\n",
            "Successfully installed fuzzywuzzy-0.18.0\n",
            "Collecting python-Levenshtein\n",
            "  Downloading python_Levenshtein-0.23.0-py3-none-any.whl (9.4 kB)\n",
            "Collecting Levenshtein==0.23.0 (from python-Levenshtein)\n",
            "  Downloading Levenshtein-0.23.0-cp310-cp310-manylinux_2_17_x86_64.manylinux2014_x86_64.whl (169 kB)\n",
            "\u001b[2K     \u001b[90m━━━━━━━━━━━━━━━━━━━━━━━━━━━━━━━━━━━━━━━━\u001b[0m \u001b[32m169.4/169.4 kB\u001b[0m \u001b[31m2.9 MB/s\u001b[0m eta \u001b[36m0:00:00\u001b[0m\n",
            "\u001b[?25hCollecting rapidfuzz<4.0.0,>=3.1.0 (from Levenshtein==0.23.0->python-Levenshtein)\n",
            "  Downloading rapidfuzz-3.5.2-cp310-cp310-manylinux_2_17_x86_64.manylinux2014_x86_64.whl (3.3 MB)\n",
            "\u001b[2K     \u001b[90m━━━━━━━━━━━━━━━━━━━━━━━━━━━━━━━━━━━━━━━━\u001b[0m \u001b[32m3.3/3.3 MB\u001b[0m \u001b[31m8.9 MB/s\u001b[0m eta \u001b[36m0:00:00\u001b[0m\n",
            "\u001b[?25hInstalling collected packages: rapidfuzz, Levenshtein, python-Levenshtein\n",
            "Successfully installed Levenshtein-0.23.0 python-Levenshtein-0.23.0 rapidfuzz-3.5.2\n"
          ]
        }
      ]
    },
    {
      "cell_type": "code",
      "source": [
        "import pandas as pd\n",
        "from google.colab import files\n",
        "import io\n",
        "import ast\n",
        "from google.colab import drive\n",
        "from matplotlib import pyplot as plt\n",
        "import numpy as np\n",
        "from fuzzywuzzy import fuzz\n",
        "import itertools as iter\n",
        "import re"
      ],
      "metadata": {
        "id": "goi65p_IBgq4"
      },
      "execution_count": null,
      "outputs": []
    },
    {
      "cell_type": "code",
      "source": [
        "# google drive mounting to colab\n",
        "drive.mount('/content/gdrive')"
      ],
      "metadata": {
        "colab": {
          "base_uri": "https://localhost:8080/"
        },
        "id": "qd1bBcSxWCPZ",
        "outputId": "b4582f1d-c26d-4db5-e98b-7003c9523f90"
      },
      "execution_count": null,
      "outputs": [
        {
          "output_type": "stream",
          "name": "stdout",
          "text": [
            "Mounted at /content/gdrive\n"
          ]
        }
      ]
    },
    {
      "cell_type": "markdown",
      "source": [
        "# football player stats feature engineering (coming soon ✈)"
      ],
      "metadata": {
        "id": "DmYsPel6V3yF"
      }
    },
    {
      "cell_type": "code",
      "source": [
        "# dataset of combined football_player_stats end season 2022 and 2023\n",
        "\n",
        "football_player_stats_2023 = pd.read_csv(r'/content/gdrive/MyDrive/KMST/2022-2023 Football Player Stats.csv', sep=';', encoding='latin-1')\n",
        "football_player_stats_2022 = pd.read_csv(r'/content/gdrive/MyDrive/KMST/2021-2022 Football Player Stats.csv', sep=';', encoding='latin-1')\n"
      ],
      "metadata": {
        "id": "PxFW2V6uYTxT"
      },
      "execution_count": null,
      "outputs": []
    },
    {
      "cell_type": "code",
      "source": [
        "# dataset of separated football player stats end season 2018\n",
        "\n",
        "stats_2018_bundesliga= pd.read_csv(r'/content/gdrive/MyDrive/KMST/football_player_stats_2017_2020/2017Bundesliga.csv', sep=',', encoding='latin-1')\n",
        "stats_2018_laliga= pd.read_csv(r'/content/gdrive/MyDrive/KMST/football_player_stats_2017_2020/2017LaLiga.csv', sep=',', encoding='latin-1')\n",
        "stats_2018_ligue1= pd.read_csv(r'/content/gdrive/MyDrive/KMST/football_player_stats_2017_2020/2017Ligue1.csv', sep=',', encoding='latin-1')\n",
        "stats_2018_premiereleague= pd.read_csv(r'/content/gdrive/MyDrive/KMST/football_player_stats_2017_2020/2017PremierLeague.csv', sep=',', encoding='latin-1')\n",
        "stats_2018_seriea= pd.read_csv(r'/content/gdrive/MyDrive/KMST/football_player_stats_2017_2020/2017SerieA.csv', sep=',', encoding='latin-1')\n",
        "\n",
        "# dataset of separated football player stats end season 2019\n",
        "stats_2019_bundesliga= pd.read_csv(r'/content/gdrive/MyDrive/KMST/football_player_stats_2017_2020/2018Bundesliga.csv', sep=',', encoding='latin-1')\n",
        "stats_2019_laliga= pd.read_csv(r'/content/gdrive/MyDrive/KMST/football_player_stats_2017_2020/2018LaLiga.csv', sep=',', encoding='latin-1')\n",
        "stats_2019_ligue1= pd.read_csv(r'/content/gdrive/MyDrive/KMST/football_player_stats_2017_2020/2018Ligue1.csv', sep=',', encoding='latin-1')\n",
        "stats_2019_premiereleague= pd.read_csv(r'/content/gdrive/MyDrive/KMST/football_player_stats_2017_2020/2018PremierLeague.csv', sep=',', encoding='latin-1')\n",
        "stats_2019_seriea= pd.read_csv(r'/content/gdrive/MyDrive/KMST/football_player_stats_2017_2020/2018SerieA.csv', sep=',', encoding='latin-1')\n",
        "\n",
        "# dataset of separated football player stats end season 2020\n",
        "stats_2020_bundesliga= pd.read_csv(r'/content/gdrive/MyDrive/KMST/football_player_stats_2017_2020/2019Bundesliga.csv', sep=',', encoding='latin-1')\n",
        "stats_2020_laliga= pd.read_csv(r'/content/gdrive/MyDrive/KMST/football_player_stats_2017_2020/2019LaLiga.csv', sep=',', encoding='latin-1')\n",
        "stats_2020_ligue1= pd.read_csv(r'/content/gdrive/MyDrive/KMST/football_player_stats_2017_2020/2019Ligue1.csv', sep=',', encoding='latin-1')\n",
        "stats_2020_premiereleague= pd.read_csv(r'/content/gdrive/MyDrive/KMST/football_player_stats_2017_2020/2019PremierLeague.csv', sep=',', encoding='latin-1')\n",
        "stats_2020_seriea= pd.read_csv(r'/content/gdrive/MyDrive/KMST/football_player_stats_2017_2020/2019SerieA.csv', sep=',', encoding='latin-1')\n",
        "\n",
        "# dataset of separated football player stats end season 2021\n",
        "stats_2021_bundesliga= pd.read_csv(r'/content/gdrive/MyDrive/KMST/football_player_stats_2017_2020/2020Bundesliga.csv', sep=',', encoding='latin-1')\n",
        "stats_2021_laliga= pd.read_csv(r'/content/gdrive/MyDrive/KMST/football_player_stats_2017_2020/2020LaLiga.csv', sep=',', encoding='latin-1')\n",
        "stats_2021_ligue1= pd.read_csv(r'/content/gdrive/MyDrive/KMST/football_player_stats_2017_2020/2020Ligue1.csv', sep=',', encoding='latin-1')\n",
        "stats_2021_premiereleague= pd.read_csv(r'/content/gdrive/MyDrive/KMST/football_player_stats_2017_2020/2020PremierLeague.csv', sep=',', encoding='latin-1')\n",
        "stats_2021_seriea= pd.read_csv(r'/content/gdrive/MyDrive/KMST/football_player_stats_2017_2020/2020SerieA.csv', sep=',', encoding='latin-1')\n"
      ],
      "metadata": {
        "id": "SbHhD9X4Wvie"
      },
      "execution_count": null,
      "outputs": []
    },
    {
      "cell_type": "code",
      "source": [
        "# combined the dataset for football players and some cleaning\n",
        "def cleaning(lst, year= 0):\n",
        "  df = pd.concat(lst)\n",
        "  # clean all nan values\n",
        "  df = df.dropna()\n",
        "  df['season_end'] = year\n",
        "  # remove first column\n",
        "  df = df.iloc[:, 1:]\n",
        "  return df\n",
        "\n",
        "stats_2018 = cleaning([stats_2018_bundesliga, stats_2018_laliga, stats_2018_ligue1, stats_2018_premiereleague, stats_2018_seriea], year=2018)\n",
        "stats_2019 =cleaning([stats_2019_bundesliga, stats_2019_laliga, stats_2019_ligue1, stats_2019_premiereleague, stats_2019_seriea], year=2019)\n",
        "stats_2020 = cleaning([stats_2020_bundesliga, stats_2020_laliga, stats_2020_ligue1, stats_2020_premiereleague, stats_2020_seriea], year=2020)\n",
        "stats_2021 = cleaning([stats_2021_bundesliga, stats_2021_laliga, stats_2021_ligue1, stats_2021_premiereleague, stats_2021_seriea], year=2021)"
      ],
      "metadata": {
        "id": "SB9SpYELbqY6"
      },
      "execution_count": null,
      "outputs": []
    },
    {
      "cell_type": "code",
      "source": [
        "def group_by_team(df):\n",
        "  x = df.groupby(by='team', axis = 0)\n",
        "  return x\n",
        "\n",
        "stats_2018 = group_by_team(stats_2018)\n",
        "stats_2018"
      ],
      "metadata": {
        "colab": {
          "base_uri": "https://localhost:8080/"
        },
        "id": "DQK9an0kxFlF",
        "outputId": "fa4684fb-8c29-4346-c4c4-a67fa9a71728"
      },
      "execution_count": null,
      "outputs": [
        {
          "output_type": "execute_result",
          "data": {
            "text/plain": [
              "<pandas.core.groupby.generic.DataFrameGroupBy object at 0x78b56eede710>"
            ]
          },
          "metadata": {},
          "execution_count": 7
        }
      ]
    },
    {
      "cell_type": "markdown",
      "source": [
        "# Matches dataset feature engineering"
      ],
      "metadata": {
        "id": "-HZy3RXeVdR6"
      }
    },
    {
      "cell_type": "code",
      "source": [
        "# match dataset\n",
        "# all files are csv file, you can just modify everything based on your needs\n",
        "bundesliga = pd.read_csv(r'/content/gdrive/MyDrive/KMST/5_leagues_match_results/bundesliga-match-scores.csv', sep=',', encoding='latin-1')\n",
        "league_one = pd.read_csv(r'/content/gdrive/MyDrive/KMST/5_leagues_match_results/frenchligue1-match-scores.csv', sep=',', encoding='latin-1')\n",
        "laliga = pd.read_csv(r'/content/gdrive/MyDrive/KMST/5_leagues_match_results/laliga-match-scores.csv', sep=',', encoding='latin-1')\n",
        "premierleague = pd.read_csv(r'/content/gdrive/MyDrive/KMST/5_leagues_match_results/premierleague-match-scores.csv', sep=',', encoding='latin-1')\n",
        "serie_a = pd.read_csv(r'/content/gdrive/MyDrive/KMST/5_leagues_match_results/seriea-match-scores.csv', sep=',', encoding='latin-1')\n",
        "\n",
        "# remove unused data. Only use score, expected goals of away and home team\n",
        "print(serie_a)\n",
        "serie_a = serie_a.iloc[:, 2:9]\n",
        "bundesliga = bundesliga.iloc[:, 3:10]\n",
        "laliga = laliga.iloc[:, 2:9]\n",
        "premierleague = premierleague.iloc[:, 2:9]\n",
        "league_one = league_one.iloc[:, 3:10]\n",
        "\n",
        "# concat all matches of 5 european leagues\n",
        "combined_match = pd.concat([serie_a, bundesliga, laliga, premierleague, league_one])\n",
        "combined_match = combined_match.sort_values(by=['home', 'date'])\n",
        "combined_match = combined_match.iloc[1:, :]\n",
        "\n",
        "# reset index and drop columns\n",
        "combined_match = combined_match.reset_index().drop(['index', 'time'], axis=1)\n",
        "\n",
        "# change the data to lowercase\n",
        "combined_match['home'] = [x.lower() for x in combined_match['home']]\n",
        "combined_match['away'] = [x.lower() for x in combined_match['away']]\n"
      ],
      "metadata": {
        "id": "6orWsiAZmIIr",
        "colab": {
          "base_uri": "https://localhost:8080/"
        },
        "outputId": "6a296f84-861b-4ad3-9a22-7ea9fc3f40f8"
      },
      "execution_count": null,
      "outputs": [
        {
          "output_type": "stream",
          "name": "stdout",
          "text": [
            "      Unnamed: 0  day        date   time           home  xg_home  score  \\\n",
            "0              0  Sat  2021-08-21  18:30  Hellas Verona      2.1  2â3   \n",
            "1              1  Sat  2021-08-21  18:30          Inter      1.5  4â0   \n",
            "2              2  Sat  2021-08-21  20:45         Empoli      1.3  1â3   \n",
            "3              3  Sat  2021-08-21  20:45         Torino      1.3  1â2   \n",
            "4              4  Sun  2021-08-22  18:30        Bologna      1.5  3â2   \n",
            "...          ...  ...         ...    ...            ...      ...    ...   \n",
            "1895        2101  Sun  2018-05-20  18:00       Cagliari      0.4  1â0   \n",
            "1896        2102  Sun  2018-05-20  18:00          Milan      2.4  5â1   \n",
            "1897        2103  Sun  2018-05-20  18:00        Udinese      1.4  1â0   \n",
            "1898        2104  Sun  2018-05-20  20:45       Sassuolo      0.9  0â1   \n",
            "1899        2105  Sun  2018-05-20  20:45          Lazio      1.3  2â3   \n",
            "\n",
            "      xg_away         away  attendance                          venue  \\\n",
            "0         1.4     Sassuolo      5448.0  Stadio Marc'Antonio Bentegodi   \n",
            "1         1.0        Genoa     27402.0         Stadio Giuseppe Meazza   \n",
            "2         1.3        Lazio      3655.0        Stadio Carlo Castellani   \n",
            "3         1.0     Atalanta      3475.0      Stadio Olimpico di Torino   \n",
            "4         1.6  Salernitana      8375.0         Stadio Renato Dall'Ara   \n",
            "...       ...          ...         ...                            ...   \n",
            "1895      1.3     Atalanta     16233.0               Stadio Sant'Elia   \n",
            "1896      0.9   Fiorentina     56968.0         Stadio Giuseppe Meazza   \n",
            "1897      0.8      Bologna     24015.0                    Dacia Arena   \n",
            "1898      1.2         Roma     13129.0    Stadio CittÃ  del Tricolore   \n",
            "1899      2.4        Inter     68000.0                Stadio Olimpico   \n",
            "\n",
            "                 referee  \n",
            "0           Manuel Volpi  \n",
            "1         Valerio Marini  \n",
            "2           Simone Sozza  \n",
            "3         Daniele Chiffi  \n",
            "4        Antonio Rapuano  \n",
            "...                  ...  \n",
            "1895        Davide Massa  \n",
            "1896      Michael Fabbri  \n",
            "1897  Claudio Gavillucci  \n",
            "1898  Eugenio Abbattista  \n",
            "1899     Gianluca Rocchi  \n",
            "\n",
            "[1900 rows x 12 columns]\n"
          ]
        }
      ]
    },
    {
      "cell_type": "code",
      "source": [
        "# feature engineering for score list\n",
        "\n",
        "combined_match = combined_match.dropna() # drop nan value\n",
        "scores = {'home_scores': list(), 'away_scores': list()}\n",
        "count = 0\n",
        "for x in combined_match['score']:\n",
        "  score = x.split('â')\n",
        "  try:\n",
        "    scores['home_scores'].append(float(score[0]))\n",
        "    scores['away_scores'].append(float(score[1]))\n",
        "  except ValueError:\n",
        "    scores['home_scores'].append(float(4))\n",
        "    scores['away_scores'].append(float(1))\n",
        "\n",
        "combined_match['home_score'] = scores['home_scores']\n",
        "combined_match['away_score'] = scores['away_scores']\n",
        "\n",
        "# drop the original score\n",
        "df = combined_match.drop('score', axis =1)\n",
        "\n",
        "# standardize the date time\n",
        "df['date'] = pd.to_datetime(df['date'])\n",
        "\n",
        "# add the football season based on the date of the matches\n",
        "season_end = list()\n",
        "for x in df['date']:\n",
        "  if x <= pd.to_datetime('2018-08-01'):\n",
        "    season_end.append(2018)\n",
        "  elif pd.to_datetime('2018-08-01') <= x <= pd.to_datetime('2019-08-01'):\n",
        "    season_end.append(2019)\n",
        "  elif pd.to_datetime('2019-08-01') <= x <= pd.to_datetime('2020-08-01'):\n",
        "    season_end.append(2020)\n",
        "  elif pd.to_datetime('2020-08-01') <= x <= pd.to_datetime('2021-08-01'):\n",
        "    season_end.append(2021)\n",
        "  elif x >= pd.to_datetime('2021-08-01'):\n",
        "    season_end.append(2022)\n",
        "  else:\n",
        "    season_end.append(np.nan)\n",
        "\n",
        "df['season_end'] = season_end"
      ],
      "metadata": {
        "id": "JtA1euC6Oza3",
        "colab": {
          "base_uri": "https://localhost:8080/"
        },
        "outputId": "87d87865-50b5-410d-82f0-7c229a6f9152"
      },
      "execution_count": null,
      "outputs": [
        {
          "output_type": "stream",
          "name": "stderr",
          "text": [
            "<ipython-input-9-b1e61bff0033>:15: SettingWithCopyWarning: \n",
            "A value is trying to be set on a copy of a slice from a DataFrame.\n",
            "Try using .loc[row_indexer,col_indexer] = value instead\n",
            "\n",
            "See the caveats in the documentation: https://pandas.pydata.org/pandas-docs/stable/user_guide/indexing.html#returning-a-view-versus-a-copy\n",
            "  combined_match['home_score'] = scores['home_scores']\n",
            "<ipython-input-9-b1e61bff0033>:16: SettingWithCopyWarning: \n",
            "A value is trying to be set on a copy of a slice from a DataFrame.\n",
            "Try using .loc[row_indexer,col_indexer] = value instead\n",
            "\n",
            "See the caveats in the documentation: https://pandas.pydata.org/pandas-docs/stable/user_guide/indexing.html#returning-a-view-versus-a-copy\n",
            "  combined_match['away_score'] = scores['away_scores']\n"
          ]
        }
      ]
    },
    {
      "cell_type": "code",
      "source": [
        "# change column order\n",
        "col = ['date', 'home', 'away', 'season_end', 'home_score', 'away_score', 'xg_home', 'xg_away']\n",
        "df = df.loc[:, col]\n",
        "df"
      ],
      "metadata": {
        "id": "PTdM5kr61ouy",
        "colab": {
          "base_uri": "https://localhost:8080/",
          "height": 419
        },
        "outputId": "96c9f75c-026e-41a6-eeeb-fbcee0c8aa35"
      },
      "execution_count": null,
      "outputs": [
        {
          "output_type": "execute_result",
          "data": {
            "text/plain": [
              "           date     home             away  season_end  home_score  away_score  \\\n",
              "0    2017-08-26  alavã©s        barcelona        2018         0.0         2.0   \n",
              "1    2017-09-17  alavã©s       villarreal        2018         0.0         3.0   \n",
              "2    2017-09-23  alavã©s      real madrid        2018         1.0         2.0   \n",
              "3    2017-10-14  alavã©s    real sociedad        2018         0.0         2.0   \n",
              "4    2017-10-28  alavã©s         valencia        2018         1.0         2.0   \n",
              "...         ...      ...              ...         ...         ...         ...   \n",
              "9142 2022-03-18   wolves     leeds united        2022         2.0         3.0   \n",
              "9143 2022-04-02   wolves      aston villa        2022         2.0         1.0   \n",
              "9144 2022-04-30   wolves         brighton        2022         0.0         3.0   \n",
              "9145 2022-05-11   wolves  manchester city        2022         1.0         5.0   \n",
              "9146 2022-05-15   wolves     norwich city        2022         1.0         1.0   \n",
              "\n",
              "      xg_home  xg_away  \n",
              "0         0.8      2.4  \n",
              "1         0.4      1.9  \n",
              "2         0.7      3.1  \n",
              "3         0.5      0.7  \n",
              "4         0.8      1.1  \n",
              "...       ...      ...  \n",
              "9142      0.8      2.2  \n",
              "9143      1.2      2.1  \n",
              "9144      0.6      2.5  \n",
              "9145      0.5      3.1  \n",
              "9146      0.9      1.3  \n",
              "\n",
              "[9035 rows x 8 columns]"
            ],
            "text/html": [
              "\n",
              "  <div id=\"df-9a14be49-fc57-4542-99c0-702deeccc82f\" class=\"colab-df-container\">\n",
              "    <div>\n",
              "<style scoped>\n",
              "    .dataframe tbody tr th:only-of-type {\n",
              "        vertical-align: middle;\n",
              "    }\n",
              "\n",
              "    .dataframe tbody tr th {\n",
              "        vertical-align: top;\n",
              "    }\n",
              "\n",
              "    .dataframe thead th {\n",
              "        text-align: right;\n",
              "    }\n",
              "</style>\n",
              "<table border=\"1\" class=\"dataframe\">\n",
              "  <thead>\n",
              "    <tr style=\"text-align: right;\">\n",
              "      <th></th>\n",
              "      <th>date</th>\n",
              "      <th>home</th>\n",
              "      <th>away</th>\n",
              "      <th>season_end</th>\n",
              "      <th>home_score</th>\n",
              "      <th>away_score</th>\n",
              "      <th>xg_home</th>\n",
              "      <th>xg_away</th>\n",
              "    </tr>\n",
              "  </thead>\n",
              "  <tbody>\n",
              "    <tr>\n",
              "      <th>0</th>\n",
              "      <td>2017-08-26</td>\n",
              "      <td>alavã©s</td>\n",
              "      <td>barcelona</td>\n",
              "      <td>2018</td>\n",
              "      <td>0.0</td>\n",
              "      <td>2.0</td>\n",
              "      <td>0.8</td>\n",
              "      <td>2.4</td>\n",
              "    </tr>\n",
              "    <tr>\n",
              "      <th>1</th>\n",
              "      <td>2017-09-17</td>\n",
              "      <td>alavã©s</td>\n",
              "      <td>villarreal</td>\n",
              "      <td>2018</td>\n",
              "      <td>0.0</td>\n",
              "      <td>3.0</td>\n",
              "      <td>0.4</td>\n",
              "      <td>1.9</td>\n",
              "    </tr>\n",
              "    <tr>\n",
              "      <th>2</th>\n",
              "      <td>2017-09-23</td>\n",
              "      <td>alavã©s</td>\n",
              "      <td>real madrid</td>\n",
              "      <td>2018</td>\n",
              "      <td>1.0</td>\n",
              "      <td>2.0</td>\n",
              "      <td>0.7</td>\n",
              "      <td>3.1</td>\n",
              "    </tr>\n",
              "    <tr>\n",
              "      <th>3</th>\n",
              "      <td>2017-10-14</td>\n",
              "      <td>alavã©s</td>\n",
              "      <td>real sociedad</td>\n",
              "      <td>2018</td>\n",
              "      <td>0.0</td>\n",
              "      <td>2.0</td>\n",
              "      <td>0.5</td>\n",
              "      <td>0.7</td>\n",
              "    </tr>\n",
              "    <tr>\n",
              "      <th>4</th>\n",
              "      <td>2017-10-28</td>\n",
              "      <td>alavã©s</td>\n",
              "      <td>valencia</td>\n",
              "      <td>2018</td>\n",
              "      <td>1.0</td>\n",
              "      <td>2.0</td>\n",
              "      <td>0.8</td>\n",
              "      <td>1.1</td>\n",
              "    </tr>\n",
              "    <tr>\n",
              "      <th>...</th>\n",
              "      <td>...</td>\n",
              "      <td>...</td>\n",
              "      <td>...</td>\n",
              "      <td>...</td>\n",
              "      <td>...</td>\n",
              "      <td>...</td>\n",
              "      <td>...</td>\n",
              "      <td>...</td>\n",
              "    </tr>\n",
              "    <tr>\n",
              "      <th>9142</th>\n",
              "      <td>2022-03-18</td>\n",
              "      <td>wolves</td>\n",
              "      <td>leeds united</td>\n",
              "      <td>2022</td>\n",
              "      <td>2.0</td>\n",
              "      <td>3.0</td>\n",
              "      <td>0.8</td>\n",
              "      <td>2.2</td>\n",
              "    </tr>\n",
              "    <tr>\n",
              "      <th>9143</th>\n",
              "      <td>2022-04-02</td>\n",
              "      <td>wolves</td>\n",
              "      <td>aston villa</td>\n",
              "      <td>2022</td>\n",
              "      <td>2.0</td>\n",
              "      <td>1.0</td>\n",
              "      <td>1.2</td>\n",
              "      <td>2.1</td>\n",
              "    </tr>\n",
              "    <tr>\n",
              "      <th>9144</th>\n",
              "      <td>2022-04-30</td>\n",
              "      <td>wolves</td>\n",
              "      <td>brighton</td>\n",
              "      <td>2022</td>\n",
              "      <td>0.0</td>\n",
              "      <td>3.0</td>\n",
              "      <td>0.6</td>\n",
              "      <td>2.5</td>\n",
              "    </tr>\n",
              "    <tr>\n",
              "      <th>9145</th>\n",
              "      <td>2022-05-11</td>\n",
              "      <td>wolves</td>\n",
              "      <td>manchester city</td>\n",
              "      <td>2022</td>\n",
              "      <td>1.0</td>\n",
              "      <td>5.0</td>\n",
              "      <td>0.5</td>\n",
              "      <td>3.1</td>\n",
              "    </tr>\n",
              "    <tr>\n",
              "      <th>9146</th>\n",
              "      <td>2022-05-15</td>\n",
              "      <td>wolves</td>\n",
              "      <td>norwich city</td>\n",
              "      <td>2022</td>\n",
              "      <td>1.0</td>\n",
              "      <td>1.0</td>\n",
              "      <td>0.9</td>\n",
              "      <td>1.3</td>\n",
              "    </tr>\n",
              "  </tbody>\n",
              "</table>\n",
              "<p>9035 rows × 8 columns</p>\n",
              "</div>\n",
              "    <div class=\"colab-df-buttons\">\n",
              "\n",
              "  <div class=\"colab-df-container\">\n",
              "    <button class=\"colab-df-convert\" onclick=\"convertToInteractive('df-9a14be49-fc57-4542-99c0-702deeccc82f')\"\n",
              "            title=\"Convert this dataframe to an interactive table.\"\n",
              "            style=\"display:none;\">\n",
              "\n",
              "  <svg xmlns=\"http://www.w3.org/2000/svg\" height=\"24px\" viewBox=\"0 -960 960 960\">\n",
              "    <path d=\"M120-120v-720h720v720H120Zm60-500h600v-160H180v160Zm220 220h160v-160H400v160Zm0 220h160v-160H400v160ZM180-400h160v-160H180v160Zm440 0h160v-160H620v160ZM180-180h160v-160H180v160Zm440 0h160v-160H620v160Z\"/>\n",
              "  </svg>\n",
              "    </button>\n",
              "\n",
              "  <style>\n",
              "    .colab-df-container {\n",
              "      display:flex;\n",
              "      gap: 12px;\n",
              "    }\n",
              "\n",
              "    .colab-df-convert {\n",
              "      background-color: #E8F0FE;\n",
              "      border: none;\n",
              "      border-radius: 50%;\n",
              "      cursor: pointer;\n",
              "      display: none;\n",
              "      fill: #1967D2;\n",
              "      height: 32px;\n",
              "      padding: 0 0 0 0;\n",
              "      width: 32px;\n",
              "    }\n",
              "\n",
              "    .colab-df-convert:hover {\n",
              "      background-color: #E2EBFA;\n",
              "      box-shadow: 0px 1px 2px rgba(60, 64, 67, 0.3), 0px 1px 3px 1px rgba(60, 64, 67, 0.15);\n",
              "      fill: #174EA6;\n",
              "    }\n",
              "\n",
              "    .colab-df-buttons div {\n",
              "      margin-bottom: 4px;\n",
              "    }\n",
              "\n",
              "    [theme=dark] .colab-df-convert {\n",
              "      background-color: #3B4455;\n",
              "      fill: #D2E3FC;\n",
              "    }\n",
              "\n",
              "    [theme=dark] .colab-df-convert:hover {\n",
              "      background-color: #434B5C;\n",
              "      box-shadow: 0px 1px 3px 1px rgba(0, 0, 0, 0.15);\n",
              "      filter: drop-shadow(0px 1px 2px rgba(0, 0, 0, 0.3));\n",
              "      fill: #FFFFFF;\n",
              "    }\n",
              "  </style>\n",
              "\n",
              "    <script>\n",
              "      const buttonEl =\n",
              "        document.querySelector('#df-9a14be49-fc57-4542-99c0-702deeccc82f button.colab-df-convert');\n",
              "      buttonEl.style.display =\n",
              "        google.colab.kernel.accessAllowed ? 'block' : 'none';\n",
              "\n",
              "      async function convertToInteractive(key) {\n",
              "        const element = document.querySelector('#df-9a14be49-fc57-4542-99c0-702deeccc82f');\n",
              "        const dataTable =\n",
              "          await google.colab.kernel.invokeFunction('convertToInteractive',\n",
              "                                                    [key], {});\n",
              "        if (!dataTable) return;\n",
              "\n",
              "        const docLinkHtml = 'Like what you see? Visit the ' +\n",
              "          '<a target=\"_blank\" href=https://colab.research.google.com/notebooks/data_table.ipynb>data table notebook</a>'\n",
              "          + ' to learn more about interactive tables.';\n",
              "        element.innerHTML = '';\n",
              "        dataTable['output_type'] = 'display_data';\n",
              "        await google.colab.output.renderOutput(dataTable, element);\n",
              "        const docLink = document.createElement('div');\n",
              "        docLink.innerHTML = docLinkHtml;\n",
              "        element.appendChild(docLink);\n",
              "      }\n",
              "    </script>\n",
              "  </div>\n",
              "\n",
              "\n",
              "<div id=\"df-8c77956b-fa6c-4bf2-b408-fc1e1851ffeb\">\n",
              "  <button class=\"colab-df-quickchart\" onclick=\"quickchart('df-8c77956b-fa6c-4bf2-b408-fc1e1851ffeb')\"\n",
              "            title=\"Suggest charts\"\n",
              "            style=\"display:none;\">\n",
              "\n",
              "<svg xmlns=\"http://www.w3.org/2000/svg\" height=\"24px\"viewBox=\"0 0 24 24\"\n",
              "     width=\"24px\">\n",
              "    <g>\n",
              "        <path d=\"M19 3H5c-1.1 0-2 .9-2 2v14c0 1.1.9 2 2 2h14c1.1 0 2-.9 2-2V5c0-1.1-.9-2-2-2zM9 17H7v-7h2v7zm4 0h-2V7h2v10zm4 0h-2v-4h2v4z\"/>\n",
              "    </g>\n",
              "</svg>\n",
              "  </button>\n",
              "\n",
              "<style>\n",
              "  .colab-df-quickchart {\n",
              "      --bg-color: #E8F0FE;\n",
              "      --fill-color: #1967D2;\n",
              "      --hover-bg-color: #E2EBFA;\n",
              "      --hover-fill-color: #174EA6;\n",
              "      --disabled-fill-color: #AAA;\n",
              "      --disabled-bg-color: #DDD;\n",
              "  }\n",
              "\n",
              "  [theme=dark] .colab-df-quickchart {\n",
              "      --bg-color: #3B4455;\n",
              "      --fill-color: #D2E3FC;\n",
              "      --hover-bg-color: #434B5C;\n",
              "      --hover-fill-color: #FFFFFF;\n",
              "      --disabled-bg-color: #3B4455;\n",
              "      --disabled-fill-color: #666;\n",
              "  }\n",
              "\n",
              "  .colab-df-quickchart {\n",
              "    background-color: var(--bg-color);\n",
              "    border: none;\n",
              "    border-radius: 50%;\n",
              "    cursor: pointer;\n",
              "    display: none;\n",
              "    fill: var(--fill-color);\n",
              "    height: 32px;\n",
              "    padding: 0;\n",
              "    width: 32px;\n",
              "  }\n",
              "\n",
              "  .colab-df-quickchart:hover {\n",
              "    background-color: var(--hover-bg-color);\n",
              "    box-shadow: 0 1px 2px rgba(60, 64, 67, 0.3), 0 1px 3px 1px rgba(60, 64, 67, 0.15);\n",
              "    fill: var(--button-hover-fill-color);\n",
              "  }\n",
              "\n",
              "  .colab-df-quickchart-complete:disabled,\n",
              "  .colab-df-quickchart-complete:disabled:hover {\n",
              "    background-color: var(--disabled-bg-color);\n",
              "    fill: var(--disabled-fill-color);\n",
              "    box-shadow: none;\n",
              "  }\n",
              "\n",
              "  .colab-df-spinner {\n",
              "    border: 2px solid var(--fill-color);\n",
              "    border-color: transparent;\n",
              "    border-bottom-color: var(--fill-color);\n",
              "    animation:\n",
              "      spin 1s steps(1) infinite;\n",
              "  }\n",
              "\n",
              "  @keyframes spin {\n",
              "    0% {\n",
              "      border-color: transparent;\n",
              "      border-bottom-color: var(--fill-color);\n",
              "      border-left-color: var(--fill-color);\n",
              "    }\n",
              "    20% {\n",
              "      border-color: transparent;\n",
              "      border-left-color: var(--fill-color);\n",
              "      border-top-color: var(--fill-color);\n",
              "    }\n",
              "    30% {\n",
              "      border-color: transparent;\n",
              "      border-left-color: var(--fill-color);\n",
              "      border-top-color: var(--fill-color);\n",
              "      border-right-color: var(--fill-color);\n",
              "    }\n",
              "    40% {\n",
              "      border-color: transparent;\n",
              "      border-right-color: var(--fill-color);\n",
              "      border-top-color: var(--fill-color);\n",
              "    }\n",
              "    60% {\n",
              "      border-color: transparent;\n",
              "      border-right-color: var(--fill-color);\n",
              "    }\n",
              "    80% {\n",
              "      border-color: transparent;\n",
              "      border-right-color: var(--fill-color);\n",
              "      border-bottom-color: var(--fill-color);\n",
              "    }\n",
              "    90% {\n",
              "      border-color: transparent;\n",
              "      border-bottom-color: var(--fill-color);\n",
              "    }\n",
              "  }\n",
              "</style>\n",
              "\n",
              "  <script>\n",
              "    async function quickchart(key) {\n",
              "      const quickchartButtonEl =\n",
              "        document.querySelector('#' + key + ' button');\n",
              "      quickchartButtonEl.disabled = true;  // To prevent multiple clicks.\n",
              "      quickchartButtonEl.classList.add('colab-df-spinner');\n",
              "      try {\n",
              "        const charts = await google.colab.kernel.invokeFunction(\n",
              "            'suggestCharts', [key], {});\n",
              "      } catch (error) {\n",
              "        console.error('Error during call to suggestCharts:', error);\n",
              "      }\n",
              "      quickchartButtonEl.classList.remove('colab-df-spinner');\n",
              "      quickchartButtonEl.classList.add('colab-df-quickchart-complete');\n",
              "    }\n",
              "    (() => {\n",
              "      let quickchartButtonEl =\n",
              "        document.querySelector('#df-8c77956b-fa6c-4bf2-b408-fc1e1851ffeb button');\n",
              "      quickchartButtonEl.style.display =\n",
              "        google.colab.kernel.accessAllowed ? 'block' : 'none';\n",
              "    })();\n",
              "  </script>\n",
              "</div>\n",
              "    </div>\n",
              "  </div>\n"
            ]
          },
          "metadata": {},
          "execution_count": 27
        }
      ]
    },
    {
      "cell_type": "code",
      "source": [
        "# dataset of 2022/ 2023 football matches (since the dataset doesn't include that)\n",
        "\n",
        "path = r'/content/gdrive/MyDrive/KMST/2022-2023 match results.xlsx'\n",
        "match_2023 = pd.read_excel(path)\n",
        "\n",
        "# add season\n",
        "match_2023['season_end'] = 2023\n",
        "\n",
        "# sort based on columns\n",
        "match_2023 = match_2023.loc[:, col]\n",
        "\n",
        "# standardize the date and time\n",
        "match_2023['date'] = pd.to_datetime(match_2023['date'])\n",
        "\n",
        "# change the data to lowercase\n",
        "\n",
        "match_2023['home'] = [x.lower() for x in match_2023['home']]\n",
        "match_2023['away'] = [x.lower() for x in match_2023['away']]\n",
        "\n",
        "# all teams\n",
        "team_names_2023 = list(set(list(match_2023['home']) + list(match_2023['away'])))\n",
        "team_names_2018_2022 = list(set(list(df['home']) + list(df['away'])))"
      ],
      "metadata": {
        "id": "AAVacU_58Rub"
      },
      "execution_count": null,
      "outputs": []
    },
    {
      "cell_type": "code",
      "source": [
        "# match team names using fuzzywuzzy algorithms\n",
        "# since we use two different dataset, the name of the teams are also distinctive and entity matching needs to be done in order to avoid any potential duplicates or data lost\n",
        "\n",
        "similar_word = list()\n",
        "distinct_word = list()\n",
        "\n",
        "for x in team_names_2018_2022:\n",
        "  for y in team_names_2023:\n",
        "    similarity = fuzz.ratio(x,y)\n",
        "    if similarity >= 68:\n",
        "      similar_word.append([x,y])\n",
        "\n",
        "exception = ['west brom', 'west ham']\n",
        "similar_word = [x for x in similar_word if x != exception]\n",
        "\n",
        "# filter the dataset of team names 2018 to 2022\n",
        "exceptions_2018_2022= list()\n",
        "exceptions_2023 = list()\n",
        "for x in team_names_2018_2022:\n",
        "  if x not in list(iter.chain.from_iterable(similar_word)):\n",
        "    exceptions_2018_2022.append(x)\n",
        "for x in team_names_2023:\n",
        "  if x not in list(iter.chain.from_iterable(similar_word)):\n",
        "    exceptions_2023.append(x)\n"
      ],
      "metadata": {
        "id": "MgDoCVCOBDgb"
      },
      "execution_count": null,
      "outputs": []
    },
    {
      "cell_type": "code",
      "source": [
        "# combine automatic matching with manual annotations\n",
        "\n",
        "annotation = [['paris s-g', 'paris saint-germain'], ['lille', 'losc lille'], ['freiburg', 'sport-club freiburg'], ['troyes', 'estac troyes'], ['nice', 'ogc nice'], ['reims','stade de reims'], ['brest', 'stade brestois 29'], ['marseille', 'olympique de marseille'], ['betis','real betis'], [\"m'gladbach\",'borussia mönchengladbach'],\n",
        "  ['strasbourg','rc strasbourg alsace'], ['bochum', 'vfl bochum 1848'], ['lyon','olympique lyonnais'],\n",
        "   ['cã¡diz','cádiz cf'], ['man utd', 'manchester utd'], ['dortmund','borussia dortmund'], ['rennes', 'stade rennais fc'],\n",
        "    ['tottenham','spurs', 'tottenham hotspurs'], ['kã¶ln', '1. fc köln', 'fc köln'], ['celta vigo', 'rc celta', 'rc celta vigo']]\n",
        "\n",
        "similar_team_name = similar_word\n",
        "for x in annotation:\n",
        "  similar_team_name.append(x)"
      ],
      "metadata": {
        "id": "dasW2weF0smN"
      },
      "execution_count": null,
      "outputs": []
    },
    {
      "cell_type": "code",
      "source": [
        "# change all list of strings in a given list\n",
        "\n",
        "def process_strings(list_of_strings, list_of_lists):\n",
        "    combined_list = []\n",
        "\n",
        "    for string in list_of_strings:\n",
        "        found_match = False\n",
        "        for sublist in reversed(list_of_lists):\n",
        "            if string in sublist:\n",
        "                combined_list.append(sublist[-1])\n",
        "                found_match = True\n",
        "                break\n",
        "        if not found_match:\n",
        "            combined_list.append(string)\n",
        "\n",
        "    return combined_list"
      ],
      "metadata": {
        "id": "tMG41IwAULox"
      },
      "execution_count": null,
      "outputs": []
    },
    {
      "cell_type": "code",
      "source": [
        "# all european league competition data from 2017-2018 to 2022-2023\n",
        "match_data = df.append(match_2023).reset_index().drop('index', axis = 1)\n",
        "\n",
        "# change all the teams based on the word similarities\n",
        "new_home = process_strings(list(match_data['home']), similar_team_name)\n",
        "new_away = process_strings(list(match_data['away']), similar_team_name)\n",
        "\n",
        "match_data['home'] = new_home\n",
        "match_data['away'] = new_away\n",
        "\n",
        "# regex to remove numbers and dot\n",
        "def remove_num(text):\n",
        "    return re.sub(r'\\d+\\.\\d+|\\d+|\\.', '', text)\n",
        "\n",
        "match_data['home'] = match_data['home'].apply(remove_num)\n",
        "match_data['away'] = match_data['away'].apply(remove_num)\n",
        "\n",
        "# sort by home and date\n",
        "match_data = match_data.sort_values(by=['home', 'date']).reset_index()\n",
        "match_data = match_data.iloc[:, 1:]\n"
      ],
      "metadata": {
        "colab": {
          "base_uri": "https://localhost:8080/"
        },
        "id": "ZBO9DVBwPou-",
        "outputId": "7d8b3c7b-9ee1-40df-ced6-5dc48c82e9d6"
      },
      "execution_count": null,
      "outputs": [
        {
          "output_type": "stream",
          "name": "stderr",
          "text": [
            "<ipython-input-15-9de7007523cc>:2: FutureWarning: The frame.append method is deprecated and will be removed from pandas in a future version. Use pandas.concat instead.\n",
            "  match_data = df.append(match_2023).reset_index().drop('index', axis = 1)\n"
          ]
        }
      ]
    },
    {
      "cell_type": "code",
      "source": [
        "# add some additional features\n",
        "\n",
        "match_data['total_goal'] = [match_data[\"home_score\"][x] + match_data[\"away_score\"][x]  for x in range(len(match_data))]\n",
        "match_data['score_differences'] = [match_data[\"home_score\"][x] - match_data[\"away_score\"][x]  for x in range(len(match_data))]\n",
        "match_data['xg_differences'] = [match_data[\"xg_home\"][x] - match_data[\"xg_away\"][x]  for x in range(len(match_data))]\n",
        "match_data['CumulativeHomeGoals'] = match_data.groupby(['season_end', 'home'])['home_score'].cumsum()\n",
        "match_data['CumulativeAwayGoals'] = match_data.groupby(['season_end', 'home'])['away_score'].cumsum()\n",
        "match_data['AvgCumulativeHomeGoals'] = match_data['CumulativeHomeGoals'] / match_data.groupby(['season_end', 'home']).cumcount()\n",
        "match_data['AvgCumulativeAwayGoals'] = match_data['CumulativeAwayGoals'] / match_data.groupby(['season_end', 'home']).cumcount()\n",
        "\n",
        "match_data.replace(np.inf, np.nan, inplace=True)\n",
        "match_data = match_data.fillna(0)\n",
        "\n",
        "# # match data with 3 targets (uncomment if you need to change the target / y)\n",
        "\n",
        "match_data['avgcumdiff'] = match_data['AvgCumulativeHomeGoals'] - match_data['AvgCumulativeAwayGoals']\n",
        "target = []\n",
        "for idx in range(len(match_data)):\n",
        "  if match_data['home_score'][idx] > match_data['away_score'][idx]:\n",
        "    target.append('win')\n",
        "  elif match_data['home_score'][idx] == match_data['away_score'][idx]:\n",
        "    target.append('draw')\n",
        "  else:\n",
        "    target.append('lose')\n",
        "match_data['target'] = target\n",
        "\n",
        "# # match data with 2 targets (uncomment if you need to change the target / y)\n",
        "# match_data['target'] = np.where(match_data['home_score'] > match_data['away_score'], 'win', 'lose')\n"
      ],
      "metadata": {
        "id": "x9FXu5Idd9yL"
      },
      "execution_count": null,
      "outputs": []
    },
    {
      "cell_type": "code",
      "source": [
        "from sklearn.preprocessing import StandardScaler, MinMaxScaler\n",
        "\n",
        "# Normalization of the numerical data\n",
        "\n",
        "minmax = MinMaxScaler()\n",
        "zscore = StandardScaler()\n",
        "match_data['CumulativeHomeGoals'] = minmax.fit_transform(match_data[['CumulativeHomeGoals']])\n",
        "match_data['CumulativeAwayGoals'] = minmax.fit_transform(match_data[['CumulativeAwayGoals']])\n",
        "match_data['total_goal'] = minmax.fit_transform(match_data[['total_goal']])\n",
        "match_data['home_score'] = minmax.fit_transform(match_data[['home_score']])\n",
        "match_data['away_score'] = minmax.fit_transform(match_data[['away_score']])\n",
        "match_data['xg_differences'] = zscore.fit_transform(match_data[['xg_differences']])"
      ],
      "metadata": {
        "id": "wQRbTHiXbI9P"
      },
      "execution_count": null,
      "outputs": []
    },
    {
      "cell_type": "markdown",
      "source": [
        "# Decision Tree Algorithm"
      ],
      "metadata": {
        "id": "FCuj1e7GbGOX"
      }
    },
    {
      "cell_type": "code",
      "source": [
        "!pip install shap"
      ],
      "metadata": {
        "id": "5tXm4SohdjtE",
        "colab": {
          "base_uri": "https://localhost:8080/"
        },
        "outputId": "5b29a4d1-2b92-4b90-c882-b49cfd1a44a6"
      },
      "execution_count": null,
      "outputs": [
        {
          "output_type": "stream",
          "name": "stdout",
          "text": [
            "Collecting shap\n",
            "  Downloading shap-0.44.0-cp310-cp310-manylinux_2_12_x86_64.manylinux2010_x86_64.manylinux_2_17_x86_64.manylinux2014_x86_64.whl (533 kB)\n",
            "\u001b[2K     \u001b[90m━━━━━━━━━━━━━━━━━━━━━━━━━━━━━━━━━━━━━━━━\u001b[0m \u001b[32m533.5/533.5 kB\u001b[0m \u001b[31m5.0 MB/s\u001b[0m eta \u001b[36m0:00:00\u001b[0m\n",
            "\u001b[?25hRequirement already satisfied: numpy in /usr/local/lib/python3.10/dist-packages (from shap) (1.23.5)\n",
            "Requirement already satisfied: scipy in /usr/local/lib/python3.10/dist-packages (from shap) (1.11.4)\n",
            "Requirement already satisfied: scikit-learn in /usr/local/lib/python3.10/dist-packages (from shap) (1.2.2)\n",
            "Requirement already satisfied: pandas in /usr/local/lib/python3.10/dist-packages (from shap) (1.5.3)\n",
            "Requirement already satisfied: tqdm>=4.27.0 in /usr/local/lib/python3.10/dist-packages (from shap) (4.66.1)\n",
            "Requirement already satisfied: packaging>20.9 in /usr/local/lib/python3.10/dist-packages (from shap) (23.2)\n",
            "Collecting slicer==0.0.7 (from shap)\n",
            "  Downloading slicer-0.0.7-py3-none-any.whl (14 kB)\n",
            "Requirement already satisfied: numba in /usr/local/lib/python3.10/dist-packages (from shap) (0.58.1)\n",
            "Requirement already satisfied: cloudpickle in /usr/local/lib/python3.10/dist-packages (from shap) (2.2.1)\n",
            "Requirement already satisfied: llvmlite<0.42,>=0.41.0dev0 in /usr/local/lib/python3.10/dist-packages (from numba->shap) (0.41.1)\n",
            "Requirement already satisfied: python-dateutil>=2.8.1 in /usr/local/lib/python3.10/dist-packages (from pandas->shap) (2.8.2)\n",
            "Requirement already satisfied: pytz>=2020.1 in /usr/local/lib/python3.10/dist-packages (from pandas->shap) (2023.3.post1)\n",
            "Requirement already satisfied: joblib>=1.1.1 in /usr/local/lib/python3.10/dist-packages (from scikit-learn->shap) (1.3.2)\n",
            "Requirement already satisfied: threadpoolctl>=2.0.0 in /usr/local/lib/python3.10/dist-packages (from scikit-learn->shap) (3.2.0)\n",
            "Requirement already satisfied: six>=1.5 in /usr/local/lib/python3.10/dist-packages (from python-dateutil>=2.8.1->pandas->shap) (1.16.0)\n",
            "Installing collected packages: slicer, shap\n",
            "Successfully installed shap-0.44.0 slicer-0.0.7\n"
          ]
        }
      ]
    },
    {
      "cell_type": "code",
      "source": [
        "from sklearn import tree\n",
        "from sklearn.inspection import permutation_importance\n",
        "from sklearn.model_selection import StratifiedKFold, train_test_split, RandomizedSearchCV, cross_val_score\n",
        "from sklearn.tree import DecisionTreeClassifier\n",
        "from sklearn.ensemble import RandomForestClassifier\n",
        "from sklearn.metrics import accuracy_score, classification_report, confusion_matrix\n",
        "from sklearn.metrics._plot.confusion_matrix import ConfusionMatrixDisplay\n",
        "import matplotlib.pyplot as plt\n",
        "import pydotplus\n",
        "import graphviz\n",
        "import shap\n",
        "import numpy as np\n",
        "import os\n",
        "from collections import OrderedDict"
      ],
      "metadata": {
        "id": "4NwOakNqdoDh"
      },
      "execution_count": null,
      "outputs": []
    },
    {
      "cell_type": "code",
      "source": [
        "# drop score-related features to avoid \"cheating\"\n",
        "dataset = match_data.iloc[:, 6:]\n",
        "dataset = dataset.drop(['score_differences'], axis=1)\n",
        "\n",
        "# shuffle samples\n",
        "dataset = dataset.sample(frac = 1)\n",
        "testing_set = dataset.sample(frac = 0.1)\n",
        "\n",
        "# training data\n",
        "datum = dataset[~dataset.isin(testing_set).all(axis=1)]\n",
        "target, class_name = pd.factorize(datum['target'])\n",
        "datum = datum.iloc[:, :-1]\n",
        "print(dataset)"
      ],
      "metadata": {
        "id": "C1QVobE1dlEN",
        "colab": {
          "base_uri": "https://localhost:8080/"
        },
        "outputId": "c7963400-d878-4079-fc5e-7149fe3df07c"
      },
      "execution_count": null,
      "outputs": [
        {
          "output_type": "stream",
          "name": "stdout",
          "text": [
            "      xg_home  xg_away  total_goal  xg_differences  CumulativeHomeGoals  \\\n",
            "5127      1.1      0.9         0.1       -0.037694             0.217949   \n",
            "8062      1.7      1.7         0.3       -0.209493             0.128205   \n",
            "1203      1.6      1.4         0.3       -0.037694             0.307692   \n",
            "9511      0.7      0.3         0.2        0.134105             0.115385   \n",
            "6792      1.0      1.0         0.1       -0.209493             0.166667   \n",
            "...       ...      ...         ...             ...                  ...   \n",
            "6966      2.5      1.7         0.3        0.477702             0.141026   \n",
            "7414      2.6      1.8         0.4        0.477702             0.230769   \n",
            "2902      1.8      1.5         0.3        0.048205             0.346154   \n",
            "3055      1.0      1.0         0.2       -0.209493             0.012821   \n",
            "7034      1.7      2.6         0.6       -0.982588             0.256410   \n",
            "\n",
            "      CumulativeAwayGoals  AvgCumulativeHomeGoals  AvgCumulativeAwayGoals  \\\n",
            "5127             0.304348                1.700000                1.400000   \n",
            "8062             0.108696                2.500000                1.250000   \n",
            "1203             0.369565                2.181818                1.545455   \n",
            "9511             0.282609                1.125000                1.625000   \n",
            "6792             0.217391                1.444444                1.111111   \n",
            "...                   ...                     ...                     ...   \n",
            "6966             0.086957                2.750000                1.000000   \n",
            "7414             0.326087                1.200000                1.000000   \n",
            "2902             0.347826                2.454545                1.454545   \n",
            "3055             0.021739                1.000000                1.000000   \n",
            "7034             0.934783                1.333333                2.866667   \n",
            "\n",
            "      avgcumdiff target  \n",
            "5127    0.300000    win  \n",
            "8062    1.250000   lose  \n",
            "1203    0.636364   lose  \n",
            "9511   -0.500000   draw  \n",
            "6792    0.333333    win  \n",
            "...          ...    ...  \n",
            "6966    1.750000    win  \n",
            "7414    0.200000   draw  \n",
            "2902    1.000000   lose  \n",
            "3055    0.000000   draw  \n",
            "7034   -1.533333   lose  \n",
            "\n",
            "[10861 rows x 10 columns]\n"
          ]
        }
      ]
    },
    {
      "cell_type": "code",
      "source": [
        "#Decision Tree Classifier\n",
        "\n",
        "X = datum\n",
        "y = target\n",
        "graphs = []\n",
        "model = DecisionTreeClassifier(max_depth=4)\n",
        "\n",
        "accuracy_trainings = []\n",
        "accuracy_tests = []\n",
        "\n",
        "predicted_targets = np.array([])\n",
        "actual_targets = np.array([])\n",
        "\n",
        "#Training data with Stratified 5-fold Cross Validation\n",
        "\n",
        "for train_index, test_index in StratifiedKFold().split(X,y):\n",
        "\n",
        "  # separating training and test set\n",
        "  X_train, X_test =  X.iloc[list(train_index)], X.iloc[list(test_index)]\n",
        "  y_train, y_test = y[train_index], y[test_index]\n",
        "\n",
        "  #training and predict model\n",
        "  model.fit(X_train, y_train)\n",
        "  predictions = model.predict(X_test)\n",
        "\n",
        "  report = classification_report(y_test, model.predict(X_test), target_names = class_name)\n",
        "\n",
        "  accuracy_trainings.append(accuracy_score(y_train, model.predict(X_train)))\n",
        "  accuracy_tests.append(accuracy_score(y_test, predictions))\n",
        "\n",
        "  #Visualize Decision Tree Model of each 5-fold\n",
        "  dot_data = tree.export_graphviz(model, feature_names= datum.columns,\n",
        "                     class_names = class_name, filled=True,\n",
        "                     impurity=True)\n",
        "  graph = graphviz.Source(dot_data)\n",
        "  graphs.append(graph)\n",
        "  '''\n",
        "  cm_1 = confusion_matrix(y_test, predictions)\n",
        "  rp = classification_report(y_test, predictions, target_names = class_name)\n",
        "  '''\n",
        "  predicted_targets = np.append(predicted_targets, predictions)\n",
        "  actual_targets = np.append(actual_targets, y_test)\n",
        "  '''\n",
        "  print(rp)\n",
        "  disp = ConfusionMatrixDisplay(confusion_matrix=cm_1, display_labels= class_name)\n",
        "  fig, ax = plt.subplots(figsize=(7,6))\n",
        "  disp.plot(ax=ax)\n",
        "  '''\n",
        "\n",
        "\n",
        "# Plot decision tree with the best accuracy\n",
        "dicts = {accuracy_tests[i]: graphs[i] for i in range(len(accuracy_tests))}\n",
        "sorted_dicts = OrderedDict(sorted(dicts.items()))\n",
        "\n",
        "list(sorted_dicts.values())[-1].render('graph.png', view=True)\n",
        "\n",
        "\n",
        "#Confusion Matrix and Classification Report (Precise, Recall, f1-score)\n",
        "cm = confusion_matrix(actual_targets, predicted_targets)\n",
        "report = classification_report(actual_targets, predicted_targets, target_names =class_name)\n",
        "\n",
        "# Visualizing all result\n",
        "print(accuracy_trainings)\n",
        "print(accuracy_tests)\n",
        "print('training accuracy = {}'.format(np.average(accuracy_trainings)))\n",
        "print('test accuracy = {}'.format(np.average(accuracy_tests)))\n",
        "\n",
        "print(report)\n",
        "disp = ConfusionMatrixDisplay(confusion_matrix=cm, display_labels= class_name)\n",
        "fig, ax = plt.subplots(figsize=(7,6))\n",
        "disp.plot(ax=ax)\n",
        "\n",
        "\n"
      ],
      "metadata": {
        "colab": {
          "base_uri": "https://localhost:8080/",
          "height": 783
        },
        "id": "QomXJi1uapae",
        "outputId": "04a48f79-71d1-4ac5-d4ec-bc1ac640e5a9"
      },
      "execution_count": null,
      "outputs": [
        {
          "output_type": "stream",
          "name": "stdout",
          "text": [
            "[0.6544757033248082, 0.6360613810741688, 0.6395140664961637, 0.6479539641943735, 0.6269820971867007]\n",
            "[0.6424552429667519, 0.648081841432225, 0.6342710997442456, 0.640920716112532, 0.6138107416879796]\n",
            "training accuracy = 0.6409974424552429\n",
            "test accuracy = 0.6359079283887468\n",
            "              precision    recall  f1-score   support\n",
            "\n",
            "         win       0.62      0.85      0.71      4268\n",
            "        lose       0.60      0.63      0.61      3057\n",
            "        draw       1.00      0.27      0.42      2450\n",
            "\n",
            "    accuracy                           0.64      9775\n",
            "   macro avg       0.74      0.58      0.58      9775\n",
            "weighted avg       0.71      0.64      0.61      9775\n",
            "\n"
          ]
        },
        {
          "output_type": "execute_result",
          "data": {
            "text/plain": [
              "<sklearn.metrics._plot.confusion_matrix.ConfusionMatrixDisplay at 0x78b4acdde890>"
            ]
          },
          "metadata": {},
          "execution_count": 21
        },
        {
          "output_type": "display_data",
          "data": {
            "text/plain": [
              "<Figure size 700x600 with 2 Axes>"
            ],
            "image/png": "[encoded data removed]"
          },
          "metadata": {}
        }
      ]
    },
    {
      "cell_type": "markdown",
      "source": [
        "# Random Forest Algorithm"
      ],
      "metadata": {
        "id": "zFoOm6wThTVk"
      }
    },
    {
      "cell_type": "code",
      "source": [
        "# 5-fold cross validation for random forest\n",
        "\n",
        "X = datum\n",
        "y = target\n",
        "\n",
        "model = RandomForestClassifier(n_estimators= 72, min_samples_split= 2, min_samples_leaf= 3, max_features= 'auto', max_depth= 4, bootstrap= True)\n",
        "\n",
        "accuracy_tests = []\n",
        "accuracy_trainings= []\n",
        "predicted_targets = np.array([])\n",
        "actual_targets = np.array([])\n",
        "\n",
        "list_shap_values= []\n",
        "list_test_sets = []\n",
        "\n",
        "#Training data with Stratified 5-fold Cross Validation\n",
        "\n",
        "for train_index, test_index in StratifiedKFold(n_splits=5).split(X,y):\n",
        "  X_train, X_test =  X.iloc[list(train_index)], X.iloc[list(test_index)]\n",
        "  y_train, y_test = y[train_index], y[test_index]\n",
        "\n",
        "  model.fit(X_train, y_train)\n",
        "  predictions = model.predict(X_test)\n",
        "\n",
        "  accuracy_trainings.append(accuracy_score(y_train, model.predict(X_train)))\n",
        "  accuracy_tests.append(accuracy_score(y_test, predictions))\n",
        "  cm_1 = confusion_matrix(y_test, predictions)\n",
        "  rp = classification_report(y_test, predictions, target_names = class_name)\n",
        "\n",
        "  predicted_targets = np.append(predicted_targets, predictions)\n",
        "  actual_targets = np.append(actual_targets, y_test)\n",
        "  # print(rp)\n",
        "  # disp = ConfusionMatrixDisplay(confusion_matrix=cm_1, display_labels= class_name)\n",
        "  # fig, ax = plt.subplots(figsize=(7,6))\n",
        "  # disp.plot(ax=ax)\n",
        "\n",
        "  # Finding SHAP Values\n",
        "  explainer = shap.TreeExplainer(model)\n",
        "  shap_values = explainer.shap_values(X_test)\n",
        "\n",
        "  list_shap_values.append(shap_values)\n",
        "  list_test_sets.append(test_index)\n",
        "\n",
        "#combined confusion matrix and classification report\n",
        "cm = confusion_matrix(actual_targets, predicted_targets)\n",
        "report = classification_report(actual_targets, predicted_targets, target_names =class_name)\n",
        "\n",
        "# combining results and plotting SHAP graph\n",
        "test_set = list_test_sets[0]\n",
        "shap_values = np.array(list_shap_values[0])\n",
        "for i in range(1,len(list_test_sets)):\n",
        "    test_set = np.concatenate((test_set,list_test_sets[i]),axis=0)\n",
        "    shap_values = np.concatenate((shap_values,np.array(list_shap_values[i])),axis=1)\n",
        "\n",
        "X_test = pd.DataFrame(X.iloc[list(test_set)],columns=X.columns)\n",
        "\n",
        "\n",
        "# visualizing confusion matrix, accuracy, and classification report\n",
        "print(accuracy_trainings)\n",
        "print(accuracy_tests)\n",
        "\n",
        "print('training accuracy = {}'.format(np.average(accuracy_trainings)))\n",
        "print('test accuracy = {}'.format(np.average(accuracy_tests)))\n",
        "\n",
        "print(report)\n",
        "\n",
        "disp = ConfusionMatrixDisplay(confusion_matrix=cm, display_labels= class_name)\n",
        "fig, ax = plt.subplots(figsize=(7,6))\n",
        "disp.plot(ax=ax)\n"
      ],
      "metadata": {
        "id": "xLSLvXxrhXRL",
        "colab": {
          "base_uri": "https://localhost:8080/",
          "height": 428
        },
        "outputId": "324b25b9-a076-42ae-cf41-d0204e307e2f"
      },
      "execution_count": null,
      "outputs": [
        {
          "output_type": "stream",
          "name": "stderr",
          "text": [
            "`max_features='auto'` has been deprecated in 1.1 and will be removed in 1.3. To keep the past behaviour, explicitly set `max_features='sqrt'` or remove this parameter as it is also the default value for RandomForestClassifiers and ExtraTreesClassifiers.\n",
            "`max_features='auto'` has been deprecated in 1.1 and will be removed in 1.3. To keep the past behaviour, explicitly set `max_features='sqrt'` or remove this parameter as it is also the default value for RandomForestClassifiers and ExtraTreesClassifiers.\n",
            "`max_features='auto'` has been deprecated in 1.1 and will be removed in 1.3. To keep the past behaviour, explicitly set `max_features='sqrt'` or remove this parameter as it is also the default value for RandomForestClassifiers and ExtraTreesClassifiers.\n",
            "`max_features='auto'` has been deprecated in 1.1 and will be removed in 1.3. To keep the past behaviour, explicitly set `max_features='sqrt'` or remove this parameter as it is also the default value for RandomForestClassifiers and ExtraTreesClassifiers.\n",
            "`max_features='auto'` has been deprecated in 1.1 and will be removed in 1.3. To keep the past behaviour, explicitly set `max_features='sqrt'` or remove this parameter as it is also the default value for RandomForestClassifiers and ExtraTreesClassifiers.\n"
          ]
        },
        {
          "output_type": "stream",
          "name": "stdout",
          "text": [
            "[0.6603580562659846, 0.6537084398976982, 0.659462915601023, 0.6611253196930946, 0.6601023017902813]\n",
            "[0.640920716112532, 0.6664961636828645, 0.6521739130434783, 0.6460358056265985, 0.6562659846547314]\n",
            "training accuracy = 0.6589514066496164\n",
            "test accuracy = 0.6523785166240409\n",
            "              precision    recall  f1-score   support\n",
            "\n",
            "         win       0.64      0.84      0.73      4268\n",
            "        lose       0.60      0.69      0.65      3057\n",
            "        draw       1.00      0.27      0.42      2450\n",
            "\n",
            "    accuracy                           0.65      9775\n",
            "   macro avg       0.75      0.60      0.60      9775\n",
            "weighted avg       0.72      0.65      0.63      9775\n",
            "\n"
          ]
        },
        {
          "output_type": "execute_result",
          "data": {
            "text/plain": [
              "<sklearn.metrics._plot.confusion_matrix.ConfusionMatrixDisplay at 0x78b4acd34880>"
            ]
          },
          "metadata": {},
          "execution_count": 22
        },
        {
          "output_type": "display_data",
          "data": {
            "text/plain": [
              "<Figure size 700x600 with 2 Axes>"
            ],
            "image/png": "[encoded data removed]"
          },
          "metadata": {}
        }
      ]
    },
    {
      "cell_type": "code",
      "source": [
        "#Plotting SHAP graph\n",
        "\n",
        "shap.summary_plot(list(shap_values), X_test, class_names=class_name, max_display=10)"
      ],
      "metadata": {
        "id": "3TvfQy7EheQx",
        "colab": {
          "base_uri": "https://localhost:8080/",
          "height": 54
        },
        "outputId": "0dd0708b-9ec0-4afa-f361-92ebfb7ba1d4"
      },
      "execution_count": null,
      "outputs": [
        {
          "output_type": "display_data",
          "data": {
            "text/plain": [
              "<Figure size 800x510 with 1 Axes>"
            ],
            "image/png": "[encoded data removed]"
          },
          "metadata": {}
        }
      ]
    },
    {
      "cell_type": "markdown",
      "source": [
        "# Skope Rules Algorithm\n"
      ],
      "metadata": {
        "id": "LdCj_76Uii_g"
      }
    },
    {
      "cell_type": "code",
      "source": [
        "#skope rules implementation\n",
        "\n",
        "from skrules import SkopeRules\n",
        "from sklearn.metrics import precision_recall_curve\n",
        "\n",
        "X = datum\n",
        "y = target\n",
        "\n",
        "\n",
        "clf = SkopeRules(max_depth=4,\n",
        "                 n_estimators=72,\n",
        "                 precision_min=0.3,\n",
        "                 recall_min=0.1,\n",
        "                 feature_names= X.columns)\n",
        "\n",
        "X_trains = []\n",
        "X_tests = []\n",
        "y_trains = []\n",
        "y_tests = []\n",
        "\n",
        "for train_index, test_index in StratifiedKFold(n_splits=5).split(X,y):\n",
        "  X_train, X_test =  X.iloc[list(train_index)], X.iloc[list(test_index)]\n",
        "  y_train, y_test = y[train_index], y[test_index]\n",
        "  X_trains.append(X_train)\n",
        "  X_tests.append(X_test)\n",
        "  y_trains.append(y_train)\n",
        "  y_tests.append(y_test)\n",
        "\n",
        "predicted_targets = np.array([])\n",
        "actual_targets = np.array([])\n",
        "\n",
        "for i in range(len(X_trains)):\n",
        "  f1_scores = []\n",
        "  for idx, styles in enumerate(class_name):\n",
        "      X, y = X_trains[i], y_trains[i]\n",
        "      clf.fit(X, y == idx)\n",
        "      rules = clf.rules_[0:1]\n",
        "      print(styles + ' ' + str(i))\n",
        "      precisions = []\n",
        "      recalls = []\n",
        "      for rule in rules:\n",
        "          print(rule)\n",
        "          rule1, a = rule\n",
        "          precision, recall, tree = a\n",
        "          precisions.append(precision)\n",
        "          recalls.append(recall)\n",
        "      avg_precision = sum(precisions)/ len(precisions)\n",
        "      avg_recall = sum(recalls)/ len(recalls)\n",
        "      avg_f1_score = 2* (avg_precision * avg_recall) / (avg_precision + avg_recall)\n",
        "      f1_scores.append(avg_f1_score)\n",
        "      print('avg precision of ' + styles +\" = {}\".format(avg_precision))\n",
        "      print('avg recall of ' + styles + ' = {}'.format(avg_recall))\n",
        "      print('avg f1 score of ' + styles + ' = {}'.format(avg_f1_score))\n",
        "      print()\n",
        "      print(20*'=')\n",
        "      print()\n",
        "  avg_f1_scores = sum(f1_scores)/len(f1_scores)\n",
        "  print('avg f1 score of fold {} = {}'.format(i, avg_f1_scores))\n",
        "  print(20*'=')\n",
        "\n",
        "\n",
        "\n"
      ],
      "metadata": {
        "id": "H4HnfA--imlU",
        "colab": {
          "base_uri": "https://localhost:8080/"
        },
        "outputId": "2fc6deec-7738-427a-b292-260cb33ce784"
      },
      "execution_count": null,
      "outputs": [
        {
          "output_type": "stream",
          "name": "stderr",
          "text": [
            "`base_estimator` was renamed to `estimator` in version 1.2 and will be removed in 1.4.\n",
            "`base_estimator` was renamed to `estimator` in version 1.2 and will be removed in 1.4.\n"
          ]
        },
        {
          "output_type": "stream",
          "name": "stdout",
          "text": [
            "win 0\n",
            "('total_goal > 0.2500000074505806 and xg_differences > 0.34885330498218536 and avgcumdiff > -0.343137264251709', (0.7724358974358975, 0.35756676557863504, 1))\n",
            "avg precision of win = 0.7724358974358975\n",
            "avg recall of win = 0.35756676557863504\n",
            "avg f1 score of win = 0.4888438133874239\n",
            "\n",
            "====================\n",
            "\n"
          ]
        },
        {
          "output_type": "stream",
          "name": "stderr",
          "text": [
            "`base_estimator` was renamed to `estimator` in version 1.2 and will be removed in 1.4.\n",
            "`base_estimator` was renamed to `estimator` in version 1.2 and will be removed in 1.4.\n"
          ]
        },
        {
          "output_type": "stream",
          "name": "stdout",
          "text": [
            "lose 0\n",
            "('total_goal > 0.05000000074505806 and xg_differences <= -0.33834226429462433 and xg_differences > -1.5409345030784607 and avgcumdiff <= 0.1715686321258545', (0.6527674172971162, 0.3619523321258112, 5))\n",
            "avg precision of lose = 0.6527674172971162\n",
            "avg recall of lose = 0.3619523321258112\n",
            "avg f1 score of lose = 0.46568658816545405\n",
            "\n",
            "====================\n",
            "\n"
          ]
        },
        {
          "output_type": "stream",
          "name": "stderr",
          "text": [
            "`base_estimator` was renamed to `estimator` in version 1.2 and will be removed in 1.4.\n",
            "`base_estimator` was renamed to `estimator` in version 1.2 and will be removed in 1.4.\n"
          ]
        },
        {
          "output_type": "stream",
          "name": "stdout",
          "text": [
            "draw 0\n",
            "('total_goal <= 0.2500000074505806 and total_goal > 0.15000000223517418 and avgcumdiff <= 1.7073863744735718', (0.5382436260623229, 0.475, 1))\n",
            "avg precision of draw = 0.5382436260623229\n",
            "avg recall of draw = 0.475\n",
            "avg f1 score of draw = 0.5046480743691899\n",
            "\n",
            "====================\n",
            "\n",
            "avg f1 score of fold 0 = 0.48639282530735595\n",
            "====================\n"
          ]
        },
        {
          "output_type": "stream",
          "name": "stderr",
          "text": [
            "`base_estimator` was renamed to `estimator` in version 1.2 and will be removed in 1.4.\n",
            "`base_estimator` was renamed to `estimator` in version 1.2 and will be removed in 1.4.\n"
          ]
        },
        {
          "output_type": "stream",
          "name": "stdout",
          "text": [
            "win 1\n",
            "('total_goal > 0.2500000074505806 and xg_differences > 0.4347527474164963 and avgcumdiff > -0.343137264251709', (0.8268551236749117, 0.3416058394160584, 1))\n",
            "avg precision of win = 0.8268551236749117\n",
            "avg recall of win = 0.3416058394160584\n",
            "avg f1 score of win = 0.48347107438016523\n",
            "\n",
            "====================\n",
            "\n"
          ]
        },
        {
          "output_type": "stream",
          "name": "stderr",
          "text": [
            "`base_estimator` was renamed to `estimator` in version 1.2 and will be removed in 1.4.\n",
            "`base_estimator` was renamed to `estimator` in version 1.2 and will be removed in 1.4.\n"
          ]
        },
        {
          "output_type": "stream",
          "name": "stdout",
          "text": [
            "lose 1\n",
            "('total_goal > 0.05000000074505806 and xg_differences <= -0.33834226429462433 and xg_differences > -1.4550350308418274 and avgcumdiff <= 0.12916667014360428', (0.6231884057971014, 0.33659491193737767, 1))\n",
            "avg precision of lose = 0.6231884057971014\n",
            "avg recall of lose = 0.33659491193737767\n",
            "avg f1 score of lose = 0.43710292249047017\n",
            "\n",
            "====================\n",
            "\n"
          ]
        },
        {
          "output_type": "stream",
          "name": "stderr",
          "text": [
            "`base_estimator` was renamed to `estimator` in version 1.2 and will be removed in 1.4.\n",
            "`base_estimator` was renamed to `estimator` in version 1.2 and will be removed in 1.4.\n"
          ]
        },
        {
          "output_type": "stream",
          "name": "stdout",
          "text": [
            "draw 1\n",
            "('total_goal <= 0.2500000074505806 and total_goal > 0.15000000223517418 and CumulativeAwayGoals > 0.010869565419852734', (0.5037507740809548, 0.49580514023791333, 2))\n",
            "avg precision of draw = 0.5037507740809548\n",
            "avg recall of draw = 0.49580514023791333\n",
            "avg f1 score of draw = 0.4997463765863699\n",
            "\n",
            "====================\n",
            "\n",
            "avg f1 score of fold 1 = 0.47344012448566847\n",
            "====================\n"
          ]
        },
        {
          "output_type": "stream",
          "name": "stderr",
          "text": [
            "`base_estimator` was renamed to `estimator` in version 1.2 and will be removed in 1.4.\n",
            "`base_estimator` was renamed to `estimator` in version 1.2 and will be removed in 1.4.\n"
          ]
        },
        {
          "output_type": "stream",
          "name": "stdout",
          "text": [
            "win 2\n",
            "('total_goal > 0.05000000074505806 and xg_differences <= 1.5514455437660217 and xg_differences > 0.34885330498218536 and avgcumdiff > -0.3550420254468918', (0.7449494949494949, 0.4416167664670659, 1))\n",
            "avg precision of win = 0.7449494949494949\n",
            "avg recall of win = 0.4416167664670659\n",
            "avg f1 score of win = 0.5545112781954887\n",
            "\n",
            "====================\n",
            "\n"
          ]
        },
        {
          "output_type": "stream",
          "name": "stderr",
          "text": [
            "`base_estimator` was renamed to `estimator` in version 1.2 and will be removed in 1.4.\n",
            "`base_estimator` was renamed to `estimator` in version 1.2 and will be removed in 1.4.\n"
          ]
        },
        {
          "output_type": "stream",
          "name": "stdout",
          "text": [
            "lose 2\n",
            "('total_goal > 0.05000000074505806 and xg_differences <= -0.33834226429462433 and xg_differences > -1.197336733341217 and avgcumdiff <= 0.12916667014360428', (0.6245059288537549, 0.3278008298755187, 1))\n",
            "avg precision of lose = 0.6245059288537549\n",
            "avg recall of lose = 0.3278008298755187\n",
            "avg f1 score of lose = 0.42993197278911566\n",
            "\n",
            "====================\n",
            "\n"
          ]
        },
        {
          "output_type": "stream",
          "name": "stderr",
          "text": [
            "`base_estimator` was renamed to `estimator` in version 1.2 and will be removed in 1.4.\n",
            "`base_estimator` was renamed to `estimator` in version 1.2 and will be removed in 1.4.\n"
          ]
        },
        {
          "output_type": "stream",
          "name": "stdout",
          "text": [
            "draw 2\n",
            "('total_goal <= 0.2500000074505806 and total_goal > 0.15000000223517418 and xg_differences <= 0.864249974489212', (0.5403665208063109, 0.4500603267323837, 7))\n",
            "avg precision of draw = 0.5403665208063109\n",
            "avg recall of draw = 0.4500603267323837\n",
            "avg f1 score of draw = 0.4910964065921654\n",
            "\n",
            "====================\n",
            "\n",
            "avg f1 score of fold 2 = 0.49184655252558995\n",
            "====================\n"
          ]
        },
        {
          "output_type": "stream",
          "name": "stderr",
          "text": [
            "`base_estimator` was renamed to `estimator` in version 1.2 and will be removed in 1.4.\n",
            "`base_estimator` was renamed to `estimator` in version 1.2 and will be removed in 1.4.\n"
          ]
        },
        {
          "output_type": "stream",
          "name": "stdout",
          "text": [
            "win 3\n",
            "('total_goal > 0.05000000074505806 and xg_differences > 0.5206521898508072 and avgcumdiff > 0.5590277910232544', (0.8237179487179487, 0.3660968660968661, 1))\n",
            "avg precision of win = 0.8237179487179487\n",
            "avg recall of win = 0.3660968660968661\n",
            "avg f1 score of win = 0.5069033530571991\n",
            "\n",
            "====================\n",
            "\n"
          ]
        },
        {
          "output_type": "stream",
          "name": "stderr",
          "text": [
            "`base_estimator` was renamed to `estimator` in version 1.2 and will be removed in 1.4.\n",
            "`base_estimator` was renamed to `estimator` in version 1.2 and will be removed in 1.4.\n"
          ]
        },
        {
          "output_type": "stream",
          "name": "stdout",
          "text": [
            "lose 3\n",
            "('total_goal > 0.2500000074505806 and xg_differences <= -0.33834226429462433 and avgcumdiff <= 0.09545454755425453', (0.7619047619047619, 0.29508196721311475, 1))\n",
            "avg precision of lose = 0.7619047619047619\n",
            "avg recall of lose = 0.29508196721311475\n",
            "avg f1 score of lose = 0.4254062038404727\n",
            "\n",
            "====================\n",
            "\n"
          ]
        },
        {
          "output_type": "stream",
          "name": "stderr",
          "text": [
            "`base_estimator` was renamed to `estimator` in version 1.2 and will be removed in 1.4.\n",
            "`base_estimator` was renamed to `estimator` in version 1.2 and will be removed in 1.4.\n"
          ]
        },
        {
          "output_type": "stream",
          "name": "stdout",
          "text": [
            "draw 3\n",
            "('total_goal <= 0.2500000074505806 and total_goal > 0.15000000223517418 and CumulativeAwayGoals > 0.010869565419852734', (0.5240793201133145, 0.48429319371727747, 1))\n",
            "avg precision of draw = 0.5240793201133145\n",
            "avg recall of draw = 0.48429319371727747\n",
            "avg f1 score of draw = 0.5034013605442178\n",
            "\n",
            "====================\n",
            "\n",
            "avg f1 score of fold 3 = 0.4785703058139632\n",
            "====================\n"
          ]
        },
        {
          "output_type": "stream",
          "name": "stderr",
          "text": [
            "`base_estimator` was renamed to `estimator` in version 1.2 and will be removed in 1.4.\n",
            "`base_estimator` was renamed to `estimator` in version 1.2 and will be removed in 1.4.\n"
          ]
        },
        {
          "output_type": "stream",
          "name": "stdout",
          "text": [
            "win 4\n",
            "('total_goal > 0.2500000074505806 and xg_differences > 0.34885330498218536 and avgcumdiff > -0.343137264251709', (0.8292682926829268, 0.3606060606060606, 1))\n",
            "avg precision of win = 0.8292682926829268\n",
            "avg recall of win = 0.3606060606060606\n",
            "avg f1 score of win = 0.5026399155227032\n",
            "\n",
            "====================\n",
            "\n"
          ]
        },
        {
          "output_type": "stream",
          "name": "stderr",
          "text": [
            "`base_estimator` was renamed to `estimator` in version 1.2 and will be removed in 1.4.\n",
            "`base_estimator` was renamed to `estimator` in version 1.2 and will be removed in 1.4.\n"
          ]
        },
        {
          "output_type": "stream",
          "name": "stdout",
          "text": [
            "lose 4\n",
            "('total_goal > 0.05000000074505806 and xg_differences <= -0.33834226429462433 and xg_differences > -1.369135558605194 and avgcumdiff <= 0.1715686321258545', (0.5960270886758803, 0.3042282590031951, 5))\n",
            "avg precision of lose = 0.5960270886758803\n",
            "avg recall of lose = 0.3042282590031951\n",
            "avg f1 score of lose = 0.4028374482286248\n",
            "\n",
            "====================\n",
            "\n"
          ]
        },
        {
          "output_type": "stream",
          "name": "stderr",
          "text": [
            "`base_estimator` was renamed to `estimator` in version 1.2 and will be removed in 1.4.\n",
            "`base_estimator` was renamed to `estimator` in version 1.2 and will be removed in 1.4.\n"
          ]
        },
        {
          "output_type": "stream",
          "name": "stdout",
          "text": [
            "draw 4\n",
            "('total_goal <= 0.2500000074505806 and total_goal > 0.15000000223517418 and xg_differences <= 0.950149416923523', (0.5457227138643068, 0.43427230046948356, 1))\n",
            "avg precision of draw = 0.5457227138643068\n",
            "avg recall of draw = 0.43427230046948356\n",
            "avg f1 score of draw = 0.4836601307189543\n",
            "\n",
            "====================\n",
            "\n",
            "avg f1 score of fold 4 = 0.4630458314900941\n",
            "====================\n"
          ]
        }
      ]
    },
    {
      "cell_type": "markdown",
      "source": [
        "# XGBoost"
      ],
      "metadata": {
        "id": "tOYGIzVtqn8p"
      }
    },
    {
      "cell_type": "code",
      "source": [
        "import xgboost\n",
        "#xgboost\n",
        "\n",
        "X = datum\n",
        "y = target\n",
        "graphs = []\n",
        "model = xgboost.XGBClassifier(seed=82, max_depth=4)\n",
        "\n",
        "accuracy_trainings = []\n",
        "accuracy_tests = []\n",
        "\n",
        "predicted_targets = np.array([])\n",
        "actual_targets = np.array([])\n",
        "\n",
        "#Training data with Stratified 5-fold Cross Validation\n",
        "\n",
        "for train_index, test_index in StratifiedKFold().split(X,y):\n",
        "\n",
        "  # separating training and test set\n",
        "  X_train, X_test =  X.iloc[list(train_index)], X.iloc[list(test_index)]\n",
        "  y_train, y_test = y[train_index], y[test_index]\n",
        "\n",
        "  #training and predict model\n",
        "  model.fit(X_train, y_train)\n",
        "  predictions = model.predict(X_test)\n",
        "\n",
        "  report = classification_report(y_test, model.predict(X_test), target_names = class_name)\n",
        "\n",
        "  accuracy_trainings.append(accuracy_score(y_train, model.predict(X_train)))\n",
        "  accuracy_tests.append(accuracy_score(y_test, predictions))\n",
        "\n",
        "  #Visualize Decision Tree Model of each 5-fold\n",
        "  img = xgboost.to_graphviz(model)\n",
        "  graphs.append(img)\n",
        "  '''\n",
        "  cm_1 = confusion_matrix(y_test, predictions)\n",
        "  rp = classification_report(y_test, predictions, target_names = class_name)\n",
        "  '''\n",
        "  predicted_targets = np.append(predicted_targets, predictions)\n",
        "  actual_targets = np.append(actual_targets, y_test)\n",
        "  '''\n",
        "  print(rp)\n",
        "  disp = ConfusionMatrixDisplay(confusion_matrix=cm_1, display_labels= class_name)\n",
        "  fig, ax = plt.subplots(figsize=(7,6))\n",
        "  disp.plot(ax=ax)\n",
        "  '''\n",
        "\n",
        "\n",
        "# Plot decision tree with the best accuracy\n",
        "dicts = {accuracy_tests[i]: graphs[i] for i in range(len(accuracy_tests))}\n",
        "sorted_dicts = OrderedDict(sorted(dicts.items()))\n",
        "\n",
        "list(sorted_dicts.values())[-1].render('xgboost 3 class.png', view=True)\n",
        "\n",
        "\n",
        "#Confusion Matrix and Classification Report (Precise, Recall, f1-score)\n",
        "cm = confusion_matrix(actual_targets, predicted_targets)\n",
        "report = classification_report(actual_targets, predicted_targets, target_names =class_name)\n",
        "\n",
        "# Visualizing all result\n",
        "print(accuracy_trainings)\n",
        "print(accuracy_tests)\n",
        "print('training accuracy = {}'.format(np.average(accuracy_trainings)))\n",
        "print('test accuracy = {}'.format(np.average(accuracy_tests)))\n",
        "\n",
        "print(report)\n",
        "disp = ConfusionMatrixDisplay(confusion_matrix=cm, display_labels= class_name)\n",
        "fig, ax = plt.subplots(figsize=(7,6))\n",
        "disp.plot(ax=ax)\n",
        "\n",
        "\n"
      ],
      "metadata": {
        "colab": {
          "base_uri": "https://localhost:8080/",
          "height": 343
        },
        "id": "9MjZ7gGgJS3M",
        "outputId": "ad74fccb-2560-464a-e5e9-449ac166c68e"
      },
      "execution_count": null,
      "outputs": [
        {
          "output_type": "stream",
          "name": "stdout",
          "text": [
            "[0.810997442455243, 0.8034526854219949, 0.8047314578005115, 0.8074168797953964, 0.8048593350383632]\n",
            "[0.6997442455242967, 0.7294117647058823, 0.7202046035805627, 0.7017902813299233, 0.7283887468030691]\n",
            "training accuracy = 0.8062915601023019\n",
            "test accuracy = 0.7159079283887467\n",
            "              precision    recall  f1-score   support\n",
            "\n",
            "         win       0.75      0.76      0.75      4268\n",
            "        lose       0.71      0.62      0.66      3057\n",
            "        draw       0.67      0.77      0.72      2450\n",
            "\n",
            "    accuracy                           0.72      9775\n",
            "   macro avg       0.71      0.71      0.71      9775\n",
            "weighted avg       0.72      0.72      0.71      9775\n",
            "\n"
          ]
        },
        {
          "output_type": "execute_result",
          "data": {
            "text/plain": [
              "<sklearn.metrics._plot.confusion_matrix.ConfusionMatrixDisplay at 0x78b4acdafa30>"
            ]
          },
          "metadata": {},
          "execution_count": 25
        },
        {
          "output_type": "display_data",
          "data": {
            "text/plain": [
              "<Figure size 700x600 with 2 Axes>"
            ],
            "image/png": "[encoded data removed]"
          },
          "metadata": {}
        }
      ]
    }
  ]
}